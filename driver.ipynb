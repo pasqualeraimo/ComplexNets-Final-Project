{
 "cells": [
  {
   "metadata": {},
   "cell_type": "markdown",
   "source": "Import",
   "id": "8a12b8f72ece701f"
  },
  {
   "cell_type": "code",
   "id": "initial_id",
   "metadata": {
    "collapsed": true,
    "ExecuteTime": {
     "end_time": "2025-05-21T19:32:56.202290Z",
     "start_time": "2025-05-21T19:32:54.975019Z"
    }
   },
   "source": [
    "import pandas as pd\n",
    "from itertools import islice\n",
    "from collections import defaultdict\n",
    "import networkx as nx\n",
    "from itertools import combinations\n",
    "import random"
   ],
   "outputs": [],
   "execution_count": 1
  },
  {
   "metadata": {},
   "cell_type": "markdown",
   "source": "CSV",
   "id": "41a3247814d866f1"
  },
  {
   "metadata": {
    "ExecuteTime": {
     "end_time": "2025-05-21T19:32:56.624484Z",
     "start_time": "2025-05-21T19:32:56.219845Z"
    }
   },
   "cell_type": "code",
   "source": [
    "recipe_details = pd.read_csv(\"./culinaryDB/01_Recipe_Details.csv\")\n",
    "ingredients = pd.read_csv(\"./culinaryDB/02_Ingredients.csv\")\n",
    "compound_ingredients = pd.read_csv(\"./culinaryDB/03_Compound_Ingredients.csv\")\n",
    "recipe_ingredients= pd.read_csv(\"./culinaryDB/04_Recipe-Ingredients_Aliases.csv\")\n"
   ],
   "id": "2340f6086baa7a73",
   "outputs": [],
   "execution_count": 2
  },
  {
   "metadata": {
    "ExecuteTime": {
     "end_time": "2025-05-21T19:32:56.847835Z",
     "start_time": "2025-05-21T19:32:56.804005Z"
    }
   },
   "cell_type": "code",
   "source": [
    "# 2. Raggruppa per 'Cuisine'\n",
    "groups = dict(tuple(recipe_details.groupby(\"Cuisine\")))\n",
    "\n",
    "# 3. Rimuovi il 40% da ciascun gruppo\n",
    "reduced_groups = {}\n",
    "\n",
    "for cuisine, df in groups.items():\n",
    "    reduced_df = df.sample(frac=0.3, random_state=42)  # Mantiene 60%\n",
    "    reduced_groups[cuisine] = reduced_df\n",
    "\n",
    "# 4. Ricombina tutti i gruppi ridotti in un unico DataFrame\n",
    "reduced_recipe_details = pd.concat(reduced_groups.values(), ignore_index=True)\n",
    "\n",
    "recipe_details=reduced_recipe_details\n",
    "len(recipe_details)"
   ],
   "id": "f6aabe7b96073dd8",
   "outputs": [
    {
     "data": {
      "text/plain": [
       "13728"
      ]
     },
     "execution_count": 3,
     "metadata": {},
     "output_type": "execute_result"
    }
   ],
   "execution_count": 3
  },
  {
   "metadata": {},
   "cell_type": "markdown",
   "source": "Creazione grafo",
   "id": "3c7f24248fb4ac45"
  },
  {
   "metadata": {
    "ExecuteTime": {
     "end_time": "2025-05-21T19:32:57.122885Z",
     "start_time": "2025-05-21T19:32:57.105599Z"
    }
   },
   "cell_type": "code",
   "source": "G = nx.Graph()",
   "id": "25711feac6c8ca3e",
   "outputs": [],
   "execution_count": 4
  },
  {
   "metadata": {},
   "cell_type": "markdown",
   "source": "Aggiunta dei nodi ricetta",
   "id": "57cd15adf352c10c"
  },
  {
   "metadata": {
    "ExecuteTime": {
     "end_time": "2025-05-21T19:32:58.168061Z",
     "start_time": "2025-05-21T19:32:57.346785Z"
    }
   },
   "cell_type": "code",
   "source": [
    "for _, row in recipe_details.iterrows():\n",
    "    G.add_node(\n",
    "        \"R\"+str(row['Recipe ID']),\n",
    "        name=row['Title'],\n",
    "        source=row['Source'],\n",
    "        cuisine=row['Cuisine'],\n",
    "        bipartite=0\n",
    "    )"
   ],
   "id": "a8fc9ad1169edbe0",
   "outputs": [],
   "execution_count": 5
  },
  {
   "metadata": {
    "ExecuteTime": {
     "end_time": "2025-05-21T19:32:58.217914Z",
     "start_time": "2025-05-21T19:32:58.208895Z"
    }
   },
   "cell_type": "code",
   "source": "G.number_of_nodes()",
   "id": "5d06c033164758fd",
   "outputs": [
    {
     "data": {
      "text/plain": [
       "13728"
      ]
     },
     "execution_count": 6,
     "metadata": {},
     "output_type": "execute_result"
    }
   ],
   "execution_count": 6
  },
  {
   "metadata": {},
   "cell_type": "markdown",
   "source": "Aggiunta dei nodi archi",
   "id": "9dfd16daf388042e"
  },
  {
   "metadata": {
    "ExecuteTime": {
     "end_time": "2025-05-21T19:32:58.418244Z",
     "start_time": "2025-05-21T19:32:58.359661Z"
    }
   },
   "cell_type": "code",
   "source": [
    "for _, row in ingredients.iterrows():\n",
    "    G.add_node(\n",
    "        \"I\"+str(row['Entity ID']),\n",
    "        name=row['Aliased Ingredient Name'],\n",
    "        category=row['Category'],\n",
    "        bipartite=1\n",
    "    )"
   ],
   "id": "ee9bdc561743d17e",
   "outputs": [],
   "execution_count": 7
  },
  {
   "metadata": {
    "ExecuteTime": {
     "end_time": "2025-05-21T19:32:58.522532Z",
     "start_time": "2025-05-21T19:32:58.512443Z"
    }
   },
   "cell_type": "code",
   "source": "G.number_of_nodes()",
   "id": "7f4c38674bdb0bc1",
   "outputs": [
    {
     "data": {
      "text/plain": [
       "14658"
      ]
     },
     "execution_count": 8,
     "metadata": {},
     "output_type": "execute_result"
    }
   ],
   "execution_count": 8
  },
  {
   "metadata": {},
   "cell_type": "markdown",
   "source": "Inserimento archi nel grafo bipartito",
   "id": "fee1988956bbf870"
  },
  {
   "metadata": {
    "ExecuteTime": {
     "end_time": "2025-05-21T19:33:18.087301Z",
     "start_time": "2025-05-21T19:32:58.596353Z"
    }
   },
   "cell_type": "code",
   "source": [
    "for _, row in recipe_ingredients.iterrows():\n",
    "    recipe_node = f'R{row[\"Recipe ID\"]}'\n",
    "    ingredient_node = f'I{row[\"Entity ID\"]}'\n",
    "\n",
    "    G.add_edge(recipe_node, ingredient_node)"
   ],
   "id": "d9b6503de93f716a",
   "outputs": [],
   "execution_count": 9
  },
  {
   "metadata": {
    "ExecuteTime": {
     "end_time": "2025-05-21T19:33:18.189676Z",
     "start_time": "2025-05-21T19:33:18.151898Z"
    }
   },
   "cell_type": "code",
   "source": "G.number_of_edges()",
   "id": "264562d9f9f3c737",
   "outputs": [
    {
     "data": {
      "text/plain": [
       "412560"
      ]
     },
     "execution_count": 10,
     "metadata": {},
     "output_type": "execute_result"
    }
   ],
   "execution_count": 10
  },
  {
   "metadata": {},
   "cell_type": "markdown",
   "source": "Salvataggio Grafo bipartito",
   "id": "ff1be2527e900cb8"
  },
  {
   "metadata": {
    "ExecuteTime": {
     "end_time": "2025-05-21T19:33:21.600351Z",
     "start_time": "2025-05-21T19:33:18.299541Z"
    }
   },
   "cell_type": "code",
   "source": "nx.write_graphml(G, \"bipartite_graph.graphml\")",
   "id": "253501f735134097",
   "outputs": [],
   "execution_count": 11
  },
  {
   "metadata": {},
   "cell_type": "markdown",
   "source": "Proiezione",
   "id": "214be7aef9c8640d"
  },
  {
   "metadata": {
    "ExecuteTime": {
     "end_time": "2025-05-21T19:33:21.746871Z",
     "start_time": "2025-05-21T19:33:21.660013Z"
    }
   },
   "cell_type": "code",
   "source": [
    "ingredient_to_recipes = defaultdict(set)\n",
    "\n",
    "for node in G.nodes:\n",
    "    if G.nodes[node].get('bipartite') == 0:  # Ricetta\n",
    "        for ingredient in G.neighbors(node):\n",
    "            ingredient_to_recipes[ingredient].add(node)\n",
    "\n",
    "\n",
    "len(ingredient_to_recipes)"
   ],
   "id": "86000e07adff1c80",
   "outputs": [
    {
     "data": {
      "text/plain": [
       "597"
      ]
     },
     "execution_count": 12,
     "metadata": {},
     "output_type": "execute_result"
    }
   ],
   "execution_count": 12
  },
  {
   "metadata": {
    "jupyter": {
     "is_executing": true
    },
    "ExecuteTime": {
     "start_time": "2025-05-21T19:33:21.821665Z"
    }
   },
   "cell_type": "code",
   "source": [
    "# Archi tra ricette che condividono ingredienti\n",
    "edge_data = defaultdict(lambda: {\"weight\": 0, \"shared_ingredients\": set()})\n",
    "\n",
    "for ingredient, recipes in ingredient_to_recipes.items():\n",
    "    print(len(recipes))\n",
    "    if 2 <= len(recipes) <= 10000:  # evita ingredienti rari e troppo comuni\n",
    "        for r1, r2 in combinations(sorted(recipes), 2):\n",
    "            key = (r1, r2)\n",
    "            edge_data[key][\"weight\"] += 1\n",
    "            edge_data[key][\"shared_ingredients\"].add(ingredient)\n",
    "\n",
    "# Costruzione grafo\n",
    "for (r1, r2), attr in edge_data.items():\n",
    "    recipe_graph.add_edge(r1, r2,\n",
    "                          weight=attr[\"weight\"],\n",
    "                          shared_ingredients=list(attr[\"shared_ingredients\"]))\n"
   ],
   "id": "6c1d3fdc675ca626",
   "outputs": [
    {
     "name": "stdout",
     "output_type": "stream",
     "text": [
      "34\n",
      "1119\n",
      "4798\n",
      "1630\n"
     ]
    }
   ],
   "execution_count": null
  },
  {
   "metadata": {
    "ExecuteTime": {
     "end_time": "2025-05-21T19:23:51.868642Z",
     "start_time": "2025-05-21T19:23:51.796911Z"
    }
   },
   "cell_type": "code",
   "source": [
    "recipe_graph.number_of_nodes()\n",
    "recipe_graph.number_of_edges()"
   ],
   "id": "ebb7395bacb20dd5",
   "outputs": [
    {
     "data": {
      "text/plain": [
       "6784473"
      ]
     },
     "execution_count": 104,
     "metadata": {},
     "output_type": "execute_result"
    }
   ],
   "execution_count": 104
  }
 ],
 "metadata": {
  "kernelspec": {
   "display_name": "Python 3",
   "language": "python",
   "name": "python3"
  },
  "language_info": {
   "codemirror_mode": {
    "name": "ipython",
    "version": 2
   },
   "file_extension": ".py",
   "mimetype": "text/x-python",
   "name": "python",
   "nbconvert_exporter": "python",
   "pygments_lexer": "ipython2",
   "version": "2.7.6"
  }
 },
 "nbformat": 4,
 "nbformat_minor": 5
}
