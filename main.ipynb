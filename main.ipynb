{
 "cells": [
  {
   "metadata": {},
   "cell_type": "markdown",
   "source": "0. Import",
   "id": "1d5808908fe292ce"
  },
  {
   "metadata": {},
   "cell_type": "code",
   "outputs": [],
   "execution_count": null,
   "source": [
    "import pandas as pd\n",
    "from itertools import islice\n",
    "from collections import defaultdict\n",
    "import networkx as nx\n",
    "from itertools import combinations\n",
    "import random"
   ],
   "id": "c2a0b7e2db8a34b1"
  },
  {
   "metadata": {},
   "cell_type": "markdown",
   "source": "1. CSV files loading\n",
   "id": "5b525e9ad5b7839c"
  },
  {
   "metadata": {},
   "cell_type": "code",
   "outputs": [],
   "execution_count": null,
   "source": [
    "recipe_details = pd.read_csv(\"./culinaryDB/01_Recipe_Details.csv\")\n",
    "ingredients = pd.read_csv(\"./culinaryDB/02_Ingredients.csv\")\n",
    "compound_ingredients = pd.read_csv(\"./culinaryDB/03_Compound_Ingredients.csv\")\n",
    "recipe_ingredients= pd.read_csv(\"./culinaryDB/04_Recipe-Ingredients_Aliases.csv\")\n",
    "\n",
    "print(recipe_details.columns.tolist())"
   ],
   "id": "9f28a7662c511042"
  },
  {
   "metadata": {},
   "cell_type": "markdown",
   "source": "Costruzione dizionario id_ricetta : attributi",
   "id": "f0cfd2e68b07fd28"
  },
  {
   "metadata": {},
   "cell_type": "code",
   "outputs": [],
   "execution_count": null,
   "source": [
    "\n",
    "node_attributes = {\n",
    "    row[\"Recipe ID\"]: {\"Title\": row[\"Title\"], \"Cuisine\": row[\"Cuisine\"]}\n",
    "    for _, row in recipe_details.iterrows()\n",
    "}"
   ],
   "id": "ecc59f87480a8333"
  },
  {
   "metadata": {},
   "cell_type": "code",
   "outputs": [],
   "execution_count": null,
   "source": "node_attributes",
   "id": "269baa602e86811"
  },
  {
   "metadata": {},
   "cell_type": "markdown",
   "source": "Creazione del dizionario Ricetta : lista di ingredienti",
   "id": "ed1eecba00687612"
  },
  {
   "metadata": {},
   "cell_type": "code",
   "outputs": [],
   "execution_count": null,
   "source": [
    "recipe_to_ingredients_dict = (\n",
    "    recipe_ingredients\n",
    "    .groupby(\"Recipe ID\")[\"Aliased Ingredient Name\"]\n",
    "    .apply(list)\n",
    "    .to_dict()\n",
    ")\n",
    "\n",
    "\n",
    "\n",
    "\n",
    "\n"
   ],
   "id": "711e1e360d0c16bd"
  },
  {
   "metadata": {},
   "cell_type": "markdown",
   "source": "Costruzione mappa: ingrediente -> insieme di ricette che lo usano",
   "id": "33bd80d7a32a83b2"
  },
  {
   "metadata": {},
   "cell_type": "code",
   "outputs": [],
   "execution_count": null,
   "source": [
    "ingredient_to_recipes_dict = defaultdict(set)\n",
    "for recipe_id, ingredients in recipe_to_ingredients_dict.items():\n",
    "    for ing in ingredients:\n",
    "        ingredient_to_recipes_dict[ing].add(recipe_id)\n",
    "\n",
    "#ingredient_to_recipes_dict = dict(islice(ingredient_to_recipes_dict.items(), 10))\n",
    "\n",
    "ingredient_to_recipes_dict"
   ],
   "id": "821652ad255df2e"
  },
  {
   "metadata": {},
   "cell_type": "markdown",
   "source": "Inizializzazione grafo non orientato",
   "id": "e3a2a2273c04622e"
  },
  {
   "metadata": {},
   "cell_type": "code",
   "outputs": [],
   "execution_count": null,
   "source": "G = nx.Graph()",
   "id": "6906ac0e7e9d687f"
  },
  {
   "metadata": {},
   "cell_type": "markdown",
   "source": "Crea archi: per ogni ingrediente, collega ricette che lo condividono",
   "id": "ca5eb1e3603d6100"
  },
  {
   "metadata": {},
   "cell_type": "code",
   "outputs": [],
   "execution_count": null,
   "source": [
    "# Inizializza lista per archi\n",
    "edge_list = []\n",
    "weight_list = []\n",
    "edge_id = 0\n",
    "\n",
    "count = 0\n",
    "# Costruzione del grafo e raccolta dati per CSV\n",
    "for ing, recipes in ingredient_to_recipes_dict.items():\n",
    "    print(count + ing) # deve raggiungere\n",
    "    for r1, r2 in combinations(recipes, 2):\n",
    "        if G.has_edge(r1, r2):\n",
    "            G[r1][r2]['ingredients'].add(ing)\n",
    "            G[r1][r2]['weight'] += 1\n",
    "        else:\n",
    "            G.add_edge(r1, r2,ingredients={ing},  weight=1)\n",
    "            edge_list.append([edge_id, r1, r2])\n",
    "            weight_list.append([edge_id, 1])\n"
   ],
   "id": "d2c66ac87f69a995"
  },
  {
   "metadata": {},
   "cell_type": "markdown",
   "source": "Inserisco gli attributi ai nodi",
   "id": "c9fb0bbfc4b450c0"
  },
  {
   "metadata": {},
   "cell_type": "code",
   "outputs": [],
   "execution_count": null,
   "source": [
    "nx.set_node_attributes(G, node_attributes)\n",
    "\n",
    "# verifica\n",
    "print(G.nodes[1])\n"
   ],
   "id": "3d83d1b4600cba25"
  }
 ],
 "metadata": {
  "kernelspec": {
   "display_name": "Python 3",
   "language": "python",
   "name": "python3"
  },
  "language_info": {
   "codemirror_mode": {
    "name": "ipython",
    "version": 2
   },
   "file_extension": ".py",
   "mimetype": "text/x-python",
   "name": "python",
   "nbconvert_exporter": "python",
   "pygments_lexer": "ipython2",
   "version": "2.7.6"
  }
 },
 "nbformat": 4,
 "nbformat_minor": 5
}
