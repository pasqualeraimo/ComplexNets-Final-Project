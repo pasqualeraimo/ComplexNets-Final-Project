{
 "cells": [
  {
   "metadata": {},
   "cell_type": "markdown",
   "source": [
    "## Notebook per la creazione del grafo 1\n",
    "nodi: ricette\n",
    "\n",
    "le ricette hanno un arco se hanno ingredienti in comune. Il peso degli archi è dato dal numero di ingredienti in comune\n"
   ],
   "id": "5c6edd3c924db1e0"
  },
  {
   "metadata": {},
   "cell_type": "code",
   "outputs": [],
   "source": [
    "import pandas as pd\n",
    "from itertools import islice\n",
    "from collections import defaultdict\n",
    "import networkx as nx\n",
    "from itertools import combinations\n",
    "import random"
   ],
   "id": "initial_id",
   "execution_count": null
  },
  {
   "metadata": {},
   "cell_type": "code",
   "outputs": [],
   "execution_count": null,
   "source": [
    "recipe_details = pd.read_csv(\"./culinaryDB/01_Recipe_Details.csv\")\n",
    "ingredients = pd.read_csv(\"./culinaryDB/02_Ingredients.csv\")\n",
    "compound_ingredients = pd.read_csv(\"./culinaryDB/03_Compound_Ingredients.csv\")\n",
    "recipe_ingredients= pd.read_csv(\"./culinaryDB/04_Recipe-Ingredients_Aliases.csv\")"
   ],
   "id": "bdffcd7bc81f8b16"
  },
  {
   "metadata": {},
   "cell_type": "markdown",
   "source": "costruzione dizionario id_ricetta: attributi",
   "id": "b5695c20a928f5a1"
  },
  {
   "metadata": {},
   "cell_type": "code",
   "outputs": [],
   "execution_count": null,
   "source": [
    "node_attributes = {\n",
    "    row[\"Recipe ID\"]: {\"Title\": row[\"Title\"], \"Cuisine\": row[\"Cuisine\"]}\n",
    "    for _, row in recipe_details.iterrows()\n",
    "}"
   ],
   "id": "3640bc9fb9200add"
  },
  {
   "metadata": {},
   "cell_type": "markdown",
   "source": "Creazione del dizionario Ricetta : lista di ingredienti",
   "id": "33afb7c30a89f2d2"
  },
  {
   "metadata": {},
   "cell_type": "code",
   "outputs": [],
   "execution_count": null,
   "source": [
    "recipe_to_ingredients_dict = (\n",
    "    recipe_ingredients\n",
    "    .groupby(\"Recipe ID\")[\"Aliased Ingredient Name\"]\n",
    "    .apply(list)\n",
    "    .to_dict()\n",
    ")"
   ],
   "id": "920538d00f55bb65"
  },
  {
   "metadata": {},
   "cell_type": "markdown",
   "source": "Costruzione dizionario: ingrediente -> insieme di ricette che lo usano",
   "id": "bec08f187fb6f156"
  },
  {
   "metadata": {},
   "cell_type": "code",
   "outputs": [],
   "execution_count": null,
   "source": [
    "ingredient_to_recipes_dict = defaultdict(set)\n",
    "for recipe_id, ingredients in recipe_to_ingredients_dict.items():\n",
    "    for ing in ingredients:\n",
    "        ingredient_to_recipes_dict[ing].add(recipe_id)\n",
    "\n",
    "len(ingredient_to_recipes_dict)"
   ],
   "id": "255a888b92b83159"
  },
  {
   "metadata": {},
   "cell_type": "markdown",
   "source": "Creazione grafo",
   "id": "dac19c766e1d1bc5"
  },
  {
   "metadata": {},
   "cell_type": "code",
   "outputs": [],
   "execution_count": null,
   "source": [
    "G = nx.Graph()\n",
    "\n",
    "count = 0\n",
    "# Costruzione dei nodi e degli archi\n",
    "for ing, recipes in ingredient_to_recipes_dict.items():\n",
    "    print(count + ing) # deve raggiungere\n",
    "    for r1, r2 in combinations(recipes, 2):\n",
    "        if G.has_edge(r1, r2):\n",
    "            G[r1][r2]['ingredients'].add(ing)\n",
    "            G[r1][r2]['weight'] += 1\n",
    "        else:\n",
    "            G.add_edge(r1, r2,ingredients={ing},  weight=1)\n",
    "\n",
    "# inserimento degli attributi ai nodi\n",
    "\n",
    "nx.set_node_attributes(G, node_attributes)"
   ],
   "id": "a70502180814b3b1"
  },
  {
   "metadata": {},
   "cell_type": "markdown",
   "source": "Da questo momento in poi il grafo è stato creato. Devi salvarlo in una qualche maniera. ChatGPT consiglia Pickle. Vedi se è la scelta giusta, e magari prova poi a costruirti il grafo dal file restituito.",
   "id": "8c42122afef16280"
  },
  {
   "metadata": {
    "ExecuteTime": {
     "end_time": "2025-05-21T16:22:49.686297Z",
     "start_time": "2025-05-21T16:22:49.676147Z"
    }
   },
   "cell_type": "code",
   "source": "",
   "id": "c1edae8f95f1ccfd",
   "outputs": [],
   "execution_count": null
  },
  {
   "metadata": {},
   "cell_type": "code",
   "outputs": [],
   "execution_count": null,
   "source": "",
   "id": "32abdc3fc5227d85"
  }
 ],
 "metadata": {
  "kernelspec": {
   "display_name": "Python 3",
   "language": "python",
   "name": "python3"
  },
  "language_info": {
   "codemirror_mode": {
    "name": "ipython",
    "version": 2
   },
   "file_extension": ".py",
   "mimetype": "text/x-python",
   "name": "python",
   "nbconvert_exporter": "python",
   "pygments_lexer": "ipython2",
   "version": "2.7.6"
  }
 },
 "nbformat": 4,
 "nbformat_minor": 5
}
